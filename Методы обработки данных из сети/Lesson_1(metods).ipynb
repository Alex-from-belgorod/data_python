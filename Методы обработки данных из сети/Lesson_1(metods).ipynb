{
 "cells": [
  {
   "cell_type": "markdown",
   "id": "8c0403d5-d537-49f0-968e-f0cf497e050c",
   "metadata": {},
   "source": [
    "#### Lesson 01\n",
    "\n",
    "#### Основы клиент-серверного взаимодействия. Парсинг API\n",
    "\n",
    "##### 1. осмотреть документацию к API GitHub, разобраться как вывести список репозиториев для конкретного пользователя, сохранить JSON-вывод в файле *.json."
   ]
  },
  {
   "cell_type": "code",
   "execution_count": 1,
   "id": "1c95755b-df85-4dcd-8751-369f99aea5b8",
   "metadata": {},
   "outputs": [],
   "source": [
    "import requests\n",
    "import json"
   ]
  },
  {
   "cell_type": "code",
   "execution_count": 2,
   "id": "1726e664-af6e-40b5-897f-4becf22fa1b7",
   "metadata": {},
   "outputs": [],
   "source": [
    "url = 'https://api.github.com'\n",
    "user='Alex-from-belgorod'"
   ]
  },
  {
   "cell_type": "code",
   "execution_count": 3,
   "id": "f68dc05d-7efc-45a8-8e9d-0ff668f883f8",
   "metadata": {},
   "outputs": [],
   "source": [
    "r = requests.get(f'{url}/users/{user}/repos')"
   ]
  },
  {
   "cell_type": "code",
   "execution_count": 4,
   "id": "c752bc36-449a-4d9c-80b2-8ba65ed86fb7",
   "metadata": {},
   "outputs": [],
   "source": [
    "with open('data.json', 'w') as f:\n",
    "    json.dump(r.json(), f)"
   ]
  },
  {
   "cell_type": "code",
   "execution_count": 5,
   "id": "fef30017-2333-462e-9a72-952b6a596da1",
   "metadata": {},
   "outputs": [
    {
     "name": "stdout",
     "output_type": "stream",
     "text": [
      "data_python\n",
      "Homework\n",
      "leson3\n",
      "master\n"
     ]
    }
   ],
   "source": [
    "for i in r.json():\n",
    "    print(i['name'])"
   ]
  },
  {
   "cell_type": "markdown",
   "id": "5fa6827c-6dfa-4c09-89bd-4301b7375000",
   "metadata": {},
   "source": [
    "##### 2. Изучить список открытых API. Найти среди них любое, требующее авторизацию (любого типа). Выполнить запросы к нему, пройдя авторизацию через curl, Postman, Python.Ответ сервера записать в файл (приложить скриншот для Postman и curl)"
   ]
  },
  {
   "cell_type": "code",
   "execution_count": 6,
   "id": "bff873dd-d76d-412b-84b2-264ef5c6c5b4",
   "metadata": {},
   "outputs": [],
   "source": [
    "url = 'https://cloud-api.yandex.net/v1/'\n",
    "token = 'AgAAAAA36-93AAXfhDqmJRBWtk38kNEIyZNsR3M'"
   ]
  },
  {
   "cell_type": "code",
   "execution_count": 7,
   "id": "c2d4fe00-f60c-442f-8255-7b530ccd17ec",
   "metadata": {},
   "outputs": [],
   "source": [
    "headers = {\n",
    "    'Content-Type': 'application/json', \\\n",
    "    'Authorization': token\n",
    "}"
   ]
  },
  {
   "cell_type": "code",
   "execution_count": 8,
   "id": "59ea6216-e8c0-4c84-85b9-99d18cade926",
   "metadata": {},
   "outputs": [],
   "source": [
    "disk_info = 'disk'\n",
    "folder_info = 'disk/resources'"
   ]
  },
  {
   "cell_type": "code",
   "execution_count": 9,
   "id": "4adc9639-6404-45c3-9d7d-80a7222296b6",
   "metadata": {},
   "outputs": [],
   "source": [
    "disk = requests.get(f'{url}{disk_info}')"
   ]
  },
  {
   "cell_type": "code",
   "execution_count": 10,
   "id": "2df8653c-4f55-4762-acf6-63210c5d2024",
   "metadata": {},
   "outputs": [
    {
     "data": {
      "text/plain": [
       "{'message': 'Не авторизован.',\n",
       " 'description': 'Unauthorized',\n",
       " 'error': 'UnauthorizedError'}"
      ]
     },
     "execution_count": 10,
     "metadata": {},
     "output_type": "execute_result"
    }
   ],
   "source": [
    "disk.json()"
   ]
  },
  {
   "cell_type": "code",
   "execution_count": 11,
   "id": "0e721fac-5fcd-4ce8-88ed-4dfe4b36d43d",
   "metadata": {},
   "outputs": [
    {
     "data": {
      "text/plain": [
       "{'message': 'Не авторизован.',\n",
       " 'description': 'Unauthorized',\n",
       " 'error': 'UnauthorizedError'}"
      ]
     },
     "execution_count": 11,
     "metadata": {},
     "output_type": "execute_result"
    }
   ],
   "source": [
    "disk = requests.get(f'{url}{disk_info}', headers = headers)\n",
    "disk.json()"
   ]
  },
  {
   "cell_type": "code",
   "execution_count": 12,
   "id": "5f9c67d5-f0bb-452b-8af0-884355b71234",
   "metadata": {},
   "outputs": [],
   "source": [
    "disk = requests.get(f'{url}{folder_info}?path=app:/', headers = headers)"
   ]
  },
  {
   "cell_type": "code",
   "execution_count": 13,
   "id": "6fd24992-2033-46f3-84da-f7fc069c1eee",
   "metadata": {},
   "outputs": [
    {
     "ename": "KeyError",
     "evalue": "'_embedded'",
     "output_type": "error",
     "traceback": [
      "\u001b[1;31m---------------------------------------------------------------------------\u001b[0m",
      "\u001b[1;31mKeyError\u001b[0m                                  Traceback (most recent call last)",
      "\u001b[1;32m<ipython-input-13-3a61e5b5307a>\u001b[0m in \u001b[0;36m<module>\u001b[1;34m\u001b[0m\n\u001b[0;32m      1\u001b[0m \u001b[1;31m# Названия файлов в папке\u001b[0m\u001b[1;33m\u001b[0m\u001b[1;33m\u001b[0m\u001b[1;33m\u001b[0m\u001b[0m\n\u001b[0;32m      2\u001b[0m \u001b[1;33m\u001b[0m\u001b[0m\n\u001b[1;32m----> 3\u001b[1;33m \u001b[1;32mfor\u001b[0m \u001b[0mi\u001b[0m \u001b[1;32min\u001b[0m \u001b[0mdisk\u001b[0m\u001b[1;33m.\u001b[0m\u001b[0mjson\u001b[0m\u001b[1;33m(\u001b[0m\u001b[1;33m)\u001b[0m\u001b[1;33m[\u001b[0m\u001b[1;34m'_embedded'\u001b[0m\u001b[1;33m]\u001b[0m\u001b[1;33m[\u001b[0m\u001b[1;34m'items'\u001b[0m\u001b[1;33m]\u001b[0m\u001b[1;33m:\u001b[0m\u001b[1;33m\u001b[0m\u001b[1;33m\u001b[0m\u001b[0m\n\u001b[0m\u001b[0;32m      4\u001b[0m     \u001b[0mprint\u001b[0m\u001b[1;33m(\u001b[0m\u001b[0mi\u001b[0m\u001b[1;33m[\u001b[0m\u001b[1;34m'name'\u001b[0m\u001b[1;33m]\u001b[0m\u001b[1;33m)\u001b[0m\u001b[1;33m\u001b[0m\u001b[1;33m\u001b[0m\u001b[0m\n",
      "\u001b[1;31mKeyError\u001b[0m: '_embedded'"
     ]
    }
   ],
   "source": [
    "# Названия файлов в папке\n",
    "\n",
    "for i in disk.json()['_embedded']['items']:\n",
    "    print(i['name'])"
   ]
  },
  {
   "cell_type": "code",
   "execution_count": 14,
   "id": "ad6886cf-6de6-4e37-9611-80f5c80b04f0",
   "metadata": {},
   "outputs": [],
   "source": [
    "with open('disk.json', 'w') as f:\n",
    "    json.dump(disk.json(), f)"
   ]
  },
  {
   "cell_type": "code",
   "execution_count": null,
   "id": "d7bed845-d345-4cd3-a6c3-8c6b0c9b58c0",
   "metadata": {},
   "outputs": [],
   "source": []
  }
 ],
 "metadata": {
  "kernelspec": {
   "display_name": "Python 3",
   "language": "python",
   "name": "python3"
  },
  "language_info": {
   "codemirror_mode": {
    "name": "ipython",
    "version": 3
   },
   "file_extension": ".py",
   "mimetype": "text/x-python",
   "name": "python",
   "nbconvert_exporter": "python",
   "pygments_lexer": "ipython3",
   "version": "3.9.1"
  }
 },
 "nbformat": 4,
 "nbformat_minor": 5
}
