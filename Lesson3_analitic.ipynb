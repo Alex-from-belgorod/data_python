{
 "cells": [
  {
   "cell_type": "markdown",
   "id": "841e38a2-e733-4f67-b9ea-f08374260083",
   "metadata": {},
   "source": [
    "#### Практическое задание к лекции №3\n",
    "\n",
    "##### 1*. Измените функцию calc_logloss так, чтобы нули по возможности не попадали в np.log.\n",
    "##### 2. Подберите аргументы функции eval_model для логистической регрессии таким образом, чтобы log loss был минимальным.\n",
    "##### 3. Создайте функцию calc_pred_proba, возвращающую предсказанную вероятность класса 1 (на вход подаются W, который уже посчитан функцией eval_model и X, на выходе - массив y_pred_proba).\n",
    "##### 4. Создайте функцию calc_pred, возвращающую предсказанный класс (на вход подаются W, который уже посчитан функцией eval_model и X, на выходе - массив y_pred).\n",
    "##### 5. Посчитайте Accuracy, матрицу ошибок, точность и полноту, а также F1 score.\n",
    "##### 6. Могла ли модель переобучиться? Почему?\n",
    "##### 7*. Создайте функции eval_model_l1 и eval_model_l2 с применением L1 и L2 регуляризаций соответственно."
   ]
  },
  {
   "cell_type": "code",
   "execution_count": 1,
   "id": "8e343e31-c3df-49ef-aa70-bd3dd342afbc",
   "metadata": {},
   "outputs": [],
   "source": [
    "import numpy as np\n",
    "import pandas as pd\n",
    "import matplotlib.pyplot as plt\n",
    "\n",
    "\n",
    "%matplotlib inline"
   ]
  },
  {
   "cell_type": "markdown",
   "id": "2394d186-5d45-407e-b7cb-cd13ee9680a3",
   "metadata": {},
   "source": [
    "#### Вводные условия"
   ]
  },
  {
   "cell_type": "code",
   "execution_count": 2,
   "id": "3a986ad7-88cc-4c0a-ba1c-c9520da2d4a6",
   "metadata": {},
   "outputs": [],
   "source": [
    "X = np.array([[1, 1, 1, 1, 1, 1, 1, 1, 1, 1],\n",
    "              [1, 1, 2, 1, 3, 0, 5, 10, 1, 2],\n",
    "              [500, 700, 750, 600, 1450,\n",
    "               800, 1500, 2000, 450, 1000],\n",
    "              [1, 1, 2, 1, 2, 1, 3, 3, 1, 2]], dtype = np.float64)\n",
    "\n",
    "y = np.array([0, 0, 1, 0, 1, 0, 1, 0, 1, 1], dtype = np.float64)"
   ]
  },
  {
   "cell_type": "code",
   "execution_count": 3,
   "id": "f2a98893-7d93-4869-8411-86f0cb37ff3c",
   "metadata": {},
   "outputs": [
    {
     "data": {
      "text/plain": [
       "array([0.2617132 , 0.17509907, 1.02794228, 0.21840613, 0.53795688,\n",
       "       0.31862798, 1.20396413, 0.05324898, 0.28336673, 0.91967463])"
      ]
     },
     "execution_count": 3,
     "metadata": {},
     "output_type": "execute_result"
    }
   ],
   "source": [
    "from sklearn.linear_model import LinearRegression\n",
    "\n",
    "model = LinearRegression()\n",
    "model.fit(X.T, y)\n",
    "model.predict(X.T)"
   ]
  },
  {
   "cell_type": "code",
   "execution_count": 4,
   "id": "2e76e926-d9b9-44b8-84f1-846e8c0444e6",
   "metadata": {},
   "outputs": [],
   "source": [
    "def calc_std_feat(x):\n",
    "    res = (x - x.mean()) / x.std()\n",
    "    return res"
   ]
  },
  {
   "cell_type": "code",
   "execution_count": 5,
   "id": "106f5c6b-c30a-40bb-a0ad-2fb77ebf95ff",
   "metadata": {},
   "outputs": [],
   "source": [
    "X_st = X.copy()\n",
    "X_st[2, :] = calc_std_feat(X[2, :])"
   ]
  },
  {
   "cell_type": "code",
   "execution_count": 6,
   "id": "aa9ea63a-abe3-452e-8b9d-5f482b0a497f",
   "metadata": {},
   "outputs": [],
   "source": [
    "def sigmoid(z):\n",
    "    res = 1 / (1 + np.exp(-z))\n",
    "    return res"
   ]
  },
  {
   "cell_type": "code",
   "execution_count": 7,
   "id": "e5773125-9b30-43e3-b3ef-88bad15661aa",
   "metadata": {},
   "outputs": [],
   "source": [
    "def calc_logloss(y, y_pred):\n",
    "    err = - np.mean(y * np.log(y_pred) + (1.0 - y) * np.log(1.0 - y_pred))\n",
    "    return err"
   ]
  },
  {
   "cell_type": "code",
   "execution_count": 8,
   "id": "bc742efb-f137-4110-b340-1265ca262fed",
   "metadata": {},
   "outputs": [
    {
     "data": {
      "text/plain": [
       "array([0.56505739, 0.54366327, 0.73651677, 0.55438552, 0.63133701,\n",
       "       0.57898984, 0.76922923, 0.5133091 , 0.57037143, 0.7149758 ])"
      ]
     },
     "execution_count": 8,
     "metadata": {},
     "output_type": "execute_result"
    }
   ],
   "source": [
    "y_pred=sigmoid(model.predict(X.T))\n",
    "y_pred"
   ]
  },
  {
   "cell_type": "code",
   "execution_count": 9,
   "id": "8392f2c0-0a4b-4dbc-8587-e7967b0e3503",
   "metadata": {},
   "outputs": [],
   "source": [
    "def eval_model(X, y, iterations, alpha=1e-4):\n",
    "    np.random.seed(42)\n",
    "    W = np.random.randn(X.shape[0])\n",
    "    n = X.shape[1]\n",
    "    for i in range(1, iterations+1):\n",
    "        z = np.dot(W, X)\n",
    "        y_pred = sigmoid(z)\n",
    "        err = calc_logloss(y, y_pred)\n",
    "        W -= alpha * (1/n * np.dot((y_pred - y), X.T))\n",
    "    if i % (iterations / 10) == 0:\n",
    "        print(i, W, err)\n",
    "    return W"
   ]
  },
  {
   "cell_type": "markdown",
   "id": "89096bec-9cb0-41c2-bbe4-0cfb000925b4",
   "metadata": {},
   "source": [
    "1*. Измените функцию calc_logloss так, чтобы нули по возможности не попадали в np.log.\n",
    "Идея модификации функции лежала в том, чтобы передавать не 1 или 0, а близкое к ним значение, например 0.999999 / 0.000001. Не счиать ошибку на примерах, которые наиболее важные для нас-это грубая ошибка"
   ]
  },
  {
   "cell_type": "markdown",
   "id": "af1cfc0c-6ec2-48ad-9f73-0fe528e12407",
   "metadata": {},
   "source": [
    "исходный код функции calc_logloss"
   ]
  },
  {
   "cell_type": "markdown",
   "id": "35135413-511f-4b39-8a42-0a6220e69dcb",
   "metadata": {},
   "source": [
    " def calc_logloss(y, y_pred):\n",
    " \n",
    "    err = - np.mean(y * np.log(y_pred) + (1.0 - y) * np.log(1.0 - y_pred))\n",
    "    \n",
    "    return err"
   ]
  },
  {
   "cell_type": "markdown",
   "id": "ac933df3-20f6-4a52-94c2-11a657294399",
   "metadata": {},
   "source": [
    "Модифицируем функцию:"
   ]
  },
  {
   "cell_type": "code",
   "execution_count": 10,
   "id": "4ff72d32-3bbe-43dd-9637-545a200834fa",
   "metadata": {},
   "outputs": [],
   "source": [
    "def calc_logloss_mod(y, y_pred):\n",
    "    y_pred_res=np.where(y_pred==1, y_pred-1e-07, np.where(y_pred==0, y_pred+1e-07, y_pred))\n",
    "    err = - np.mean(y * np.log(y_pred_res) + (1.0 - y) * np.log(1.0 - y_pred_res))\n",
    "    return err"
   ]
  },
  {
   "cell_type": "markdown",
   "id": "d58516b1-5c61-43ef-bfab-51b406640bdb",
   "metadata": {},
   "source": [
    "Для проверки изменим вектор предсказанных значений, добавив в него нули и единицы"
   ]
  },
  {
   "cell_type": "code",
   "execution_count": 11,
   "id": "b731a2f7-4195-4622-8e00-976e4933ca64",
   "metadata": {},
   "outputs": [
    {
     "data": {
      "text/plain": [
       "2.024785862818215"
      ]
     },
     "execution_count": 11,
     "metadata": {},
     "output_type": "execute_result"
    }
   ],
   "source": [
    "y_pred1=np.array([0.56505739, 0., 0.73651677, 0.55438552, 1.,\n",
    "       0.57898984, 0.76922923, 0.5133091 , 0., 0.7149758 ])\n",
    "calc_logloss_mod(y, y_pred1)"
   ]
  },
  {
   "cell_type": "markdown",
   "id": "9103b867-154e-499d-b0f4-6dfd6cfb3384",
   "metadata": {},
   "source": [
    "Исходная функция при этом возвращает nan"
   ]
  },
  {
   "cell_type": "code",
   "execution_count": 12,
   "id": "88d6ad59-cbf5-4c8b-b959-df5ce385844e",
   "metadata": {},
   "outputs": [
    {
     "name": "stderr",
     "output_type": "stream",
     "text": [
      "C:\\Users\\Александр\\AppData\\Local\\Temp\\ipykernel_9912\\851670199.py:2: RuntimeWarning: divide by zero encountered in log\n",
      "  err = - np.mean(y * np.log(y_pred) + (1.0 - y) * np.log(1.0 - y_pred))\n",
      "C:\\Users\\Александр\\AppData\\Local\\Temp\\ipykernel_9912\\851670199.py:2: RuntimeWarning: invalid value encountered in multiply\n",
      "  err = - np.mean(y * np.log(y_pred) + (1.0 - y) * np.log(1.0 - y_pred))\n"
     ]
    },
    {
     "data": {
      "text/plain": [
       "nan"
      ]
     },
     "execution_count": 12,
     "metadata": {},
     "output_type": "execute_result"
    }
   ],
   "source": [
    "calc_logloss(y, y_pred1)"
   ]
  },
  {
   "cell_type": "markdown",
   "id": "524f57e1-90fd-4d72-8df9-d28c12c29fea",
   "metadata": {},
   "source": [
    "2. Подберите аргументы функции eval_model для логистической регрессии таким образом, чтобы log loss был минимальным."
   ]
  },
  {
   "cell_type": "code",
   "execution_count": 13,
   "id": "8118da4b-915d-4f50-963f-c8edfeed2929",
   "metadata": {},
   "outputs": [],
   "source": [
    "def eval_model(X, y, iterations, alpha=1e-4):\n",
    "    np.random.seed(42)\n",
    "    W = np.random.randn(X.shape[0])\n",
    "    n = X.shape[1]\n",
    "    for i in range(1, iterations+1):\n",
    "        z = np.dot(W, X)\n",
    "        y_pred = sigmoid(z)\n",
    "        err = calc_logloss_mod(y, y_pred) # заменим на модифицированную нами функцию\n",
    "        W -= alpha * (1/n * np.dot((y_pred - y), X.T))\n",
    "    if i % (iterations / 10) == 0:\n",
    "        print(i, W, err)\n",
    "    return W"
   ]
  },
  {
   "cell_type": "code",
   "execution_count": 14,
   "id": "65e30ed9-064f-4c32-8a72-d60a2cf15879",
   "metadata": {},
   "outputs": [
    {
     "name": "stdout",
     "output_type": "stream",
     "text": [
      "1000 [ 0.49282757 -0.15007512  0.64748969  1.51727928] 1.2013133809011647\n"
     ]
    }
   ],
   "source": [
    "W = eval_model(X_st, y, iterations=1000, alpha=1e-5)"
   ]
  },
  {
   "cell_type": "markdown",
   "id": "0dd53fa1-fb8d-447f-90e4-9eb2c3a2dbe4",
   "metadata": {},
   "source": [
    "для подбора параметров модифицируем функцию, для остановки до достижения заданного количества итераций, если величина ошибки не изменяется выше указанного показателя"
   ]
  },
  {
   "cell_type": "code",
   "execution_count": 15,
   "id": "af26f3f2-99fe-4306-ba9e-5378667aa3f4",
   "metadata": {},
   "outputs": [],
   "source": [
    "def eval_model(X, y, verbose=False, alpha=1e-4, tol=0.00001): \n",
    "    view_ind = 10**(-np.log10(tol)-2) if -np.log10(tol)-2>=1 else 1 # задаём параметр кратности вывода промежуточных результатов\n",
    "    np.random.seed(42)\n",
    "    W = np.random.randn(X.shape[0])\n",
    "    n = X.shape[1]\n",
    "    min_err = float('inf')  #начальное значение ошибки модели - бесконечность\n",
    "    n_iter = 0  # отслеживаем количество итераций\n",
    "    stop_chek = True\n",
    "    errors = []  # добавлено для визуализации кривой обучения\n",
    "    while stop_chek:\n",
    "        n_iter += 1\n",
    "        z = np.dot(W, X)\n",
    "        y_pred = sigmoid(z)\n",
    "        err = calc_logloss_mod(y, y_pred) # заменим на модифицированную нами функцию\n",
    "        errors.append(err)\n",
    "        if min_err - err > tol:  # контролируем текущее значение ошибки\n",
    "            min_err = err\n",
    "        else:  # если снижение прекратилось, останавливаемся.\n",
    "            print(\n",
    "                f'Stop descent! iteration: {n_iter}, weights: {W}, logloss: {min_err}')\n",
    "            stop_chek = False\n",
    "        W -= alpha * (1/n * np.dot((y_pred - y), X.T))\n",
    "        if verbose:\n",
    "            if n_iter % view_ind == 0:\n",
    "                print(n_iter, W, err)\n",
    "    return W, min_err, n_iter"
   ]
  },
  {
   "cell_type": "code",
   "execution_count": 16,
   "id": "7bb7efaf-9913-4a15-afd5-89517d1d06d5",
   "metadata": {},
   "outputs": [
    {
     "name": "stdout",
     "output_type": "stream",
     "text": [
      "1000 [-8.650831   -1.25372329 -1.54901597  7.41955336] 0.2823965843259973\n",
      "2000 [-12.40065236  -1.54519184  -2.73360596  10.40076601] 0.24130322780777833\n",
      "3000 [-15.36100912  -1.79394114  -3.63840883  12.7942367 ] 0.21560879813812384\n",
      "4000 [-17.89496779  -2.01191968  -4.40078502  14.84932619] 0.1967862662226779\n",
      "5000 [-20.12312962  -2.20577442  -5.0641727   16.65729995] 0.18224763493044263\n",
      "6000 [-22.11355698  -2.38010899  -5.65216163  18.27197463] 0.17065959157189312\n",
      "Stop descent! iteration: 6204, weights: [-22.49301224  -2.41343975  -5.76381384  18.57970581], logloss: 0.1685880929323425\n"
     ]
    }
   ],
   "source": [
    "W = eval_model(X_st, y, alpha=0.6, tol=0.00001, verbose=True)"
   ]
  },
  {
   "cell_type": "markdown",
   "id": "4fd751e4-8d68-47ff-8030-0685c02a6134",
   "metadata": {},
   "source": [
    "Подберем лучшие параметры  для модели(поскольку функция сама отслеживает оптимальное количество итераций, то других параметров подбирать не нужно):"
   ]
  },
  {
   "cell_type": "code",
   "execution_count": 17,
   "id": "9c02777c-094a-42d7-aa70-f4941be6c800",
   "metadata": {},
   "outputs": [],
   "source": [
    "def get_best_params(X,y,args):\n",
    "    best_params=[]\n",
    "    for arg in args:\n",
    "        W,err,n_iter = eval_model(X, y, alpha=arg)\n",
    "        best_params.append((arg,err,n_iter))\n",
    "    best_params.sort(key=lambda x:x[1])\n",
    "    print(f'best - alpha: {best_params[0][0]},\\nresults:\\nerr: {best_params[0][1]},\\nn_iter: {best_params[0][2]}')\n",
    "    return best_params[0]"
   ]
  },
  {
   "cell_type": "code",
   "execution_count": 18,
   "id": "d683b4ae-1a83-4f3f-8b7a-a4e4a6c0ff61",
   "metadata": {},
   "outputs": [
    {
     "name": "stdout",
     "output_type": "stream",
     "text": [
      "Stop descent! iteration: 4, weights: [-0.01512682 -1.44851808  0.75644797  1.06048112], logloss: 0.9360085439942413\n",
      "Stop descent! iteration: 6391, weights: [-20.79292735  -2.26433611  -5.26248927  17.20072759], logloss: 0.17820649249087692\n",
      "Stop descent! iteration: 5853, weights: [-8.53503588 -1.24557698 -1.51126618  7.32961021], logloss: 0.28385397215014785\n",
      "Stop descent! iteration: 6493, weights: [-6.18756485 -1.10137381 -0.7192765   5.56154533], logloss: 0.3198397227902269\n",
      "Stop descent! iteration: 6823, weights: [-2.01966427 -0.97319445  0.84001927  2.78391711], logloss: 0.43337113257078075\n",
      "Stop descent! iteration: 4134, weights: [-0.6636217  -0.82018794  1.11647506  1.7462896 ], logloss: 0.4980620278791868\n",
      "Stop descent! iteration: 3017, weights: [ 0.06153887 -0.68603638  0.85254687  1.2130508 ], logloss: 0.555828709755477\n",
      "Stop descent! iteration: 3104, weights: [ 0.19306961 -0.69531514  0.74058514  1.21943805], logloss: 0.5765738129341405\n",
      "Stop descent! iteration: 6890, weights: [ 0.30486547 -0.64297726  0.65967984  1.27145631], logloss: 0.608860244923452\n",
      "Stop descent! iteration: 11196, weights: [ 0.32871646 -0.60814204  0.6497502   1.29299115], logloss: 0.6272419108714266\n",
      "Stop descent! iteration: 29779, weights: [ 0.39267294 -0.45708299  0.6408199   1.37066871], logloss: 0.7608933828168416\n",
      "Stop descent! iteration: 2, weights: [ 0.4967122  -0.13827022  0.64768844  1.52302697], logloss: 1.220065627789983\n",
      "Stop descent! iteration: 2, weights: [ 0.49671376 -0.13826548  0.64768852  1.52302928], logloss: 1.220065627789983\n",
      "Stop descent! iteration: 2, weights: [ 0.49671396 -0.13826489  0.64768853  1.52302957], logloss: 1.220065627789983\n",
      "Stop descent! iteration: 2, weights: [ 0.49671411 -0.13826442  0.64768854  1.5230298 ], logloss: 1.220065627789983\n",
      "best - alpha: 0.5,\n",
      "results:\n",
      "err: 0.17820649249087692,\n",
      "n_iter: 6391\n"
     ]
    },
    {
     "data": {
      "text/plain": [
       "(0.5, 0.17820649249087692, 6391)"
      ]
     },
     "execution_count": 18,
     "metadata": {},
     "output_type": "execute_result"
    }
   ],
   "source": [
    "alphas=[1, 0.5,0.1,0.05, 0.01, 0.005, 0.001, 0.0005, 0.0001, 0.00005, 0.00001, 0.000005, 0.000001, 0.0000005, 0.0000001]\n",
    "bp=get_best_params(X_st,y,alphas)\n",
    "bp"
   ]
  },
  {
   "cell_type": "markdown",
   "id": "65fc4c56-38a7-445b-a9c1-13b41e817529",
   "metadata": {},
   "source": [
    "Лучший результат получаем при a = 0.5\n",
    "\n",
    "попробуем подобрать a из интервала (1:0,1) "
   ]
  },
  {
   "cell_type": "code",
   "execution_count": 19,
   "id": "df91d631-83c3-419c-a958-4e851d923de4",
   "metadata": {},
   "outputs": [
    {
     "name": "stdout",
     "output_type": "stream",
     "text": [
      "Stop descent! iteration: 5853, weights: [-8.53503588 -1.24557698 -1.51126618  7.32961021], logloss: 0.28385397215014785\n",
      "Stop descent! iteration: 6187, weights: [-12.59825223  -1.5614873   -2.79460722  10.55999424], logloss: 0.23942165779557908\n",
      "Stop descent! iteration: 6534, weights: [-16.06978213  -1.85457135  -3.85261322  13.36879382], logloss: 0.21006752362747183\n",
      "Stop descent! iteration: 6535, weights: [-18.71799582  -2.08333293  -4.64651497  15.51714508], logloss: 0.19120600628315837\n",
      "Stop descent! iteration: 6391, weights: [-20.79292735  -2.26433611  -5.26248927  17.20072759], logloss: 0.17820649249087692\n",
      "Stop descent! iteration: 6204, weights: [-22.49301224  -2.41343975  -5.76381384  18.57970581], logloss: 0.1685880929323425\n",
      "Stop descent! iteration: 6, weights: [ 9.91945996e-04 -8.78773470e-01  8.74063808e-01  1.19348750e+00], logloss: 0.5868163760298954\n",
      "Stop descent! iteration: 4, weights: [ 0.06140228 -1.1126246   0.76192585  1.11769668], logloss: 0.6865501501467717\n",
      "Stop descent! iteration: 4, weights: [ 0.018576   -1.31433745  0.75285106  1.07760698], logloss: 0.8025549653255653\n",
      "best - alpha: 0.6,\n",
      "results:\n",
      "err: 0.1685880929323425,\n",
      "n_iter: 6204\n"
     ]
    },
    {
     "data": {
      "text/plain": [
       "(0.6, 0.1685880929323425, 6204)"
      ]
     },
     "execution_count": 19,
     "metadata": {},
     "output_type": "execute_result"
    }
   ],
   "source": [
    "alphas=np.arange(1,10)/10\n",
    "bp=get_best_params(X_st,y,alphas)\n",
    "bp"
   ]
  },
  {
   "cell_type": "markdown",
   "id": "40fe7fa3-76ec-4f5f-a88a-feeaef40bf88",
   "metadata": {},
   "source": [
    "Лучший параметр скорости обучения для нашего примера a = 0,6"
   ]
  },
  {
   "cell_type": "markdown",
   "id": "d5ee379c-1a2d-4c07-b729-351e47ba8dc5",
   "metadata": {},
   "source": [
    "3. Создайте функцию calc_pred_proba, возвращающую предсказанную вероятность класса 1 (на вход подаются W, который уже посчитан функцией eval_model и X, на выходе - массив y_pred_proba)."
   ]
  },
  {
   "cell_type": "code",
   "execution_count": 20,
   "id": "07442f6d-f88d-473b-b6ac-b4bb31351f67",
   "metadata": {},
   "outputs": [],
   "source": [
    "def calc_pred_proba(w, x): \n",
    "    pred_proba = sigmoid(np.dot(w, x))\n",
    "    return pred_proba"
   ]
  },
  {
   "cell_type": "code",
   "execution_count": 21,
   "id": "be2d4b3a-9e47-4e44-bde0-d05b49ed170c",
   "metadata": {},
   "outputs": [
    {
     "name": "stdout",
     "output_type": "stream",
     "text": [
      "1000 [-8.650831   -1.25372329 -1.54901597  7.41955336] 0.2823965843259973\n",
      "2000 [-12.40065236  -1.54519184  -2.73360596  10.40076601] 0.24130322780777833\n",
      "3000 [-15.36100912  -1.79394114  -3.63840883  12.7942367 ] 0.21560879813812384\n",
      "4000 [-17.89496779  -2.01191968  -4.40078502  14.84932619] 0.1967862662226779\n",
      "5000 [-20.12312962  -2.20577442  -5.0641727   16.65729995] 0.18224763493044263\n",
      "6000 [-22.11355698  -2.38010899  -5.65216163  18.27197463] 0.17065959157189312\n",
      "Stop descent! iteration: 6204, weights: [-22.49301224  -2.41343975  -5.76381384  18.57970581], logloss: 0.1685880929323425\n"
     ]
    }
   ],
   "source": [
    "W,_err,_it = eval_model(X_st, y, alpha=0.6, verbose=True)"
   ]
  },
  {
   "cell_type": "code",
   "execution_count": 22,
   "id": "17f017d3-af7f-4675-8e44-310f365a591b",
   "metadata": {},
   "outputs": [
    {
     "data": {
      "text/plain": [
       "array([0.33613789, 0.04486849, 0.99999633, 0.13361891, 0.85570148,\n",
       "       0.13784668, 0.99999968, 0.04426597, 0.47847259, 0.99992831])"
      ]
     },
     "execution_count": 22,
     "metadata": {},
     "output_type": "execute_result"
    }
   ],
   "source": [
    "y_pred_prob = calc_pred_proba(W, X_st)\n",
    "y_pred_prob"
   ]
  },
  {
   "cell_type": "markdown",
   "id": "412532a4-616d-48d3-b512-9e561de094b6",
   "metadata": {},
   "source": [
    "4. Создайте функцию calc_pred, возвращающую предсказанный класс (на вход подаются W, который уже посчитан функцией eval_model и X, на выходе - массив y_pred)."
   ]
  },
  {
   "cell_type": "code",
   "execution_count": 23,
   "id": "7b0feb35-6573-4860-9fcf-5d5baa67d4f9",
   "metadata": {},
   "outputs": [],
   "source": [
    "def calc_pred(w,x, prob_lim=0.5):    # установим порог вероятности, при превышении которого, объект будет относиться к классу 1\n",
    "    pred_proba = sigmoid(np.dot(w, x))\n",
    "    pred=np.zeros_like(pred_proba)\n",
    "    for idx, prob in enumerate(pred_proba):\n",
    "        if prob>prob_lim:\n",
    "            pred[idx]=1\n",
    "    return pred"
   ]
  },
  {
   "cell_type": "code",
   "execution_count": 24,
   "id": "5c0b7774-5ffe-437b-bd02-01f8d6272cfd",
   "metadata": {},
   "outputs": [
    {
     "data": {
      "text/plain": [
       "array([0., 0., 1., 0., 1., 0., 1., 0., 0., 1.])"
      ]
     },
     "execution_count": 24,
     "metadata": {},
     "output_type": "execute_result"
    }
   ],
   "source": [
    "y_pred=calc_pred(W, X_st)\n",
    "y_pred"
   ]
  },
  {
   "cell_type": "markdown",
   "id": "d1ce62ec-4a36-44d3-bc80-4eca48e18dce",
   "metadata": {},
   "source": [
    "5. Посчитайте Accuracy, матрицу ошибок, точность и полноту, а также F1 score."
   ]
  },
  {
   "cell_type": "code",
   "execution_count": 25,
   "id": "cf92a256-725f-4d52-984b-fa22c7e2f94f",
   "metadata": {},
   "outputs": [],
   "source": [
    "from sklearn.metrics import accuracy_score, confusion_matrix, recall_score, precision_score, f1_score"
   ]
  },
  {
   "cell_type": "code",
   "execution_count": 26,
   "id": "83c12cee-f0aa-49ea-8646-31f461a3f70d",
   "metadata": {},
   "outputs": [],
   "source": [
    "def my_accuracy(real, pred):\n",
    "    all_res=len(real)\n",
    "    trues=0\n",
    "    for i in range(all_res):\n",
    "        trues+=int(real[i]==pred[i])\n",
    "    return trues/all_res\n",
    "        "
   ]
  },
  {
   "cell_type": "code",
   "execution_count": 27,
   "id": "84c42878-7555-40a5-a05a-ab1ce13e73b1",
   "metadata": {},
   "outputs": [
    {
     "data": {
      "text/plain": [
       "0.9"
      ]
     },
     "execution_count": 27,
     "metadata": {},
     "output_type": "execute_result"
    }
   ],
   "source": [
    "my_accuracy(y,y_pred)"
   ]
  },
  {
   "cell_type": "markdown",
   "id": "7bd2c600-dbc3-465d-b3b3-56fcb2d710ac",
   "metadata": {},
   "source": [
    "проверим"
   ]
  },
  {
   "cell_type": "code",
   "execution_count": 28,
   "id": "69359f04-fddf-4348-b482-840190e077ad",
   "metadata": {},
   "outputs": [
    {
     "data": {
      "text/plain": [
       "0.9"
      ]
     },
     "execution_count": 28,
     "metadata": {},
     "output_type": "execute_result"
    }
   ],
   "source": [
    "accuracy_score(y,y_pred)"
   ]
  },
  {
   "cell_type": "code",
   "execution_count": 29,
   "id": "6ea0ff06-faf7-4296-ba72-f92702b37678",
   "metadata": {},
   "outputs": [],
   "source": [
    "def my_confusion_matrix(real, pred):\n",
    "    n_classes=len(np.unique(real))\n",
    "    all_res=len(real)\n",
    "    conf_matr=np.zeros((n_classes,n_classes), dtype='int')\n",
    "    for i in range(all_res):\n",
    "        conf_matr[int(real[i])][int(pred[i])] += 1\n",
    "    return conf_matr  \n",
    "    "
   ]
  },
  {
   "cell_type": "code",
   "execution_count": 30,
   "id": "bf6b1347-7b8f-4804-ad83-c2efe07376d0",
   "metadata": {},
   "outputs": [
    {
     "data": {
      "text/plain": [
       "array([[5, 0],\n",
       "       [1, 4]])"
      ]
     },
     "execution_count": 30,
     "metadata": {},
     "output_type": "execute_result"
    }
   ],
   "source": [
    "my_confusion_matrix(y,y_pred)"
   ]
  },
  {
   "cell_type": "markdown",
   "id": "0bc0e7d8-23f9-4d76-a896-785c9222e1e4",
   "metadata": {},
   "source": [
    "Проверим:"
   ]
  },
  {
   "cell_type": "code",
   "execution_count": 31,
   "id": "b4443d1d-02a2-45da-bf9e-254bf317a7b1",
   "metadata": {},
   "outputs": [
    {
     "data": {
      "text/plain": [
       "array([[5, 0],\n",
       "       [1, 4]], dtype=int64)"
      ]
     },
     "execution_count": 31,
     "metadata": {},
     "output_type": "execute_result"
    }
   ],
   "source": [
    "confusion_matrix(y,y_pred)"
   ]
  },
  {
   "cell_type": "code",
   "execution_count": 32,
   "id": "963a9757-fb9f-41d2-96c8-34aaee0ebcbd",
   "metadata": {},
   "outputs": [],
   "source": [
    "def my_precision(real, pred):\n",
    "    tn, fp, fn, tp = my_confusion_matrix(real, pred).ravel()\n",
    "    return tp/(tp+fp)\n",
    "    "
   ]
  },
  {
   "cell_type": "code",
   "execution_count": 33,
   "id": "c83c3395-75c9-4cac-aed3-3d772a259cb2",
   "metadata": {},
   "outputs": [
    {
     "data": {
      "text/plain": [
       "1.0"
      ]
     },
     "execution_count": 33,
     "metadata": {},
     "output_type": "execute_result"
    }
   ],
   "source": [
    "my_precision(y,y_pred)"
   ]
  },
  {
   "cell_type": "markdown",
   "id": "e968e89e-fdb3-480d-a00c-7728de5ffd4c",
   "metadata": {},
   "source": [
    "Проверка:"
   ]
  },
  {
   "cell_type": "code",
   "execution_count": 34,
   "id": "b59cb2b8-9315-4f1f-93c5-9c6e70882995",
   "metadata": {},
   "outputs": [
    {
     "data": {
      "text/plain": [
       "1.0"
      ]
     },
     "execution_count": 34,
     "metadata": {},
     "output_type": "execute_result"
    }
   ],
   "source": [
    "precision_score(y,y_pred)"
   ]
  },
  {
   "cell_type": "code",
   "execution_count": 35,
   "id": "f2c1b9c4-8075-4fb0-94c6-320fbe55bbc8",
   "metadata": {},
   "outputs": [],
   "source": [
    "def my_recall(real, pred):\n",
    "    tn, fp, fn, tp = my_confusion_matrix(real, pred).ravel()\n",
    "    return tp/(tp+fn)"
   ]
  },
  {
   "cell_type": "code",
   "execution_count": 36,
   "id": "3cc7e9ed-e991-4a15-9b57-695872c16851",
   "metadata": {},
   "outputs": [
    {
     "data": {
      "text/plain": [
       "0.8"
      ]
     },
     "execution_count": 36,
     "metadata": {},
     "output_type": "execute_result"
    }
   ],
   "source": [
    "my_recall(y,y_pred)"
   ]
  },
  {
   "cell_type": "markdown",
   "id": "fd6684c1-700d-4e7f-9ffa-8f0a72a6f25b",
   "metadata": {},
   "source": [
    "Проверка:"
   ]
  },
  {
   "cell_type": "code",
   "execution_count": 37,
   "id": "314b9216-3b94-428a-8a95-069fa7bc73fe",
   "metadata": {},
   "outputs": [
    {
     "data": {
      "text/plain": [
       "0.8"
      ]
     },
     "execution_count": 37,
     "metadata": {},
     "output_type": "execute_result"
    }
   ],
   "source": [
    "recall_score(y,y_pred)"
   ]
  },
  {
   "cell_type": "code",
   "execution_count": 38,
   "id": "6525e0c6-cfd1-4ff4-8318-44381243d4b0",
   "metadata": {},
   "outputs": [],
   "source": [
    "def my_f1(real, pred, beta=1):\n",
    "    return (1+beta**2)*my_precision(real, pred)*my_recall(y,y_pred)/(beta**2*my_precision(real, pred)+my_recall(y,y_pred))"
   ]
  },
  {
   "cell_type": "code",
   "execution_count": 39,
   "id": "46aca17c-030f-4b13-8fc7-7a7684c0121c",
   "metadata": {},
   "outputs": [
    {
     "data": {
      "text/plain": [
       "0.888888888888889"
      ]
     },
     "execution_count": 39,
     "metadata": {},
     "output_type": "execute_result"
    }
   ],
   "source": [
    "my_f1(y,y_pred)"
   ]
  },
  {
   "cell_type": "markdown",
   "id": "c2c467bd-324a-427a-b9eb-869114a5455d",
   "metadata": {},
   "source": [
    "Проверка:"
   ]
  },
  {
   "cell_type": "code",
   "execution_count": 40,
   "id": "e9794bfc-81ce-464d-b7c9-1cd5fff339cd",
   "metadata": {},
   "outputs": [
    {
     "data": {
      "text/plain": [
       "0.888888888888889"
      ]
     },
     "execution_count": 40,
     "metadata": {},
     "output_type": "execute_result"
    }
   ],
   "source": [
    "f1_score(y,y_pred)"
   ]
  },
  {
   "cell_type": "markdown",
   "id": "1f3f111f-2df1-4548-a387-ea61515f518e",
   "metadata": {},
   "source": [
    "6. Могла ли модель переобучиться? Почему?"
   ]
  },
  {
   "cell_type": "markdown",
   "id": "20e0b2ff-8890-4ccd-b38a-c6e604dac2bd",
   "metadata": {},
   "source": [
    "Модель логистической регрессии склонна к переобучению, в следствии того что мы используем сигмоиду для того, чтобы преобразовать в вероятность предсказания линейной модели. А т.к. сигмоида не имеет максимума и минимума, а только асимптоты в 0 и 1, градиентный спуск не может достичь оптимального решения с помощью градиентных шагов доводя веса до все более экстремальных значений, пытаясь достичь нулевых потерь. При большой размерности данных вероятность этого еще больше увеличивается. Поэтому в качестве способа регуляризации можно использовать ранний останов работы модели, а так же L1 и L2 регуляризацию."
   ]
  },
  {
   "cell_type": "markdown",
   "id": "b95e3520-fa80-4f9a-a3a4-dc2f69a60019",
   "metadata": {},
   "source": [
    "7*. Создайте функции eval_model_l1 и eval_model_l2 с применением L1 и L2 регуляризаций соответственно."
   ]
  },
  {
   "cell_type": "markdown",
   "id": "7d02031e-6131-44a0-ad49-35bd6f0406c9",
   "metadata": {},
   "source": [
    "Функции для расчёта норм векторов:"
   ]
  },
  {
   "cell_type": "code",
   "execution_count": 42,
   "id": "f39bc7a2-d6ee-48aa-87ca-c2459860ec05",
   "metadata": {},
   "outputs": [],
   "source": [
    "def euclid(vec):\n",
    "    norm=0\n",
    "    for i in vec:\n",
    "        norm+=i**2\n",
    "    return norm**0.5\n",
    "\n",
    "def manhattan(vec):\n",
    "    norm=0\n",
    "    for i in vec:\n",
    "        norm+=i if i>0 else -i\n",
    "    return norm"
   ]
  },
  {
   "cell_type": "markdown",
   "id": "406de1ad-1556-49a0-b913-61c3f8d7a801",
   "metadata": {},
   "source": [
    "Добавим возможность сразу выбирать тип регуляризации L1 или L2"
   ]
  },
  {
   "cell_type": "code",
   "execution_count": 43,
   "id": "062c65c1-5a27-4630-a5be-91708b588e25",
   "metadata": {},
   "outputs": [],
   "source": [
    "def eval_model_1(X, y, verbose=False, alpha=1e-4, tol=0.00001, penalty=None, lambda_=0.0): \n",
    "    view_ind = 10**(-np.log10(tol)-2) if -np.log10(tol)-2>=1 else 1 # задаём параметр кратности вывода промежуточных результатов\n",
    "    np.random.seed(42)\n",
    "    W = np.random.randn(X.shape[0])\n",
    "    n = X.shape[1]\n",
    "    min_err = float('inf')  #начальное значение ошибки модели - бесконечность\n",
    "    n_iter = 0  # отслеживаем количество итераций\n",
    "    stop_chek = True\n",
    "    errors = []  # добавлено для визуализации кривой обучения\n",
    "    if penalty=='L1': # учитываем тип регуляризации\n",
    "        reg_elem=manhattan\n",
    "    elif penalty=='L2':\n",
    "        reg_elem=euclid\n",
    "    else:\n",
    "        reg_elem=lambda x: 0\n",
    "    while stop_chek:\n",
    "        n_iter += 1\n",
    "        z = np.dot(W, X)\n",
    "        y_pred = sigmoid(z)\n",
    "        err = calc_logloss_mod(y, y_pred)+lambda_*reg_elem(W)  # добавляем в расчет ошибки выбранный фактор регуляризации\n",
    "        errors.append(err)\n",
    "        if min_err - err > tol:  # контролируем текущее значение ошибки\n",
    "            min_err = err\n",
    "        else:  # если снижение прекратилось, останавливаемся.\n",
    "            print(\n",
    "                f'Stop descent! iteration: {n_iter}, weights: {W}, logloss: {min_err}')\n",
    "            stop_chek = False\n",
    "        W -= alpha * (1/n * np.dot((y_pred - y), X.T))\n",
    "        if verbose:\n",
    "            if n_iter % view_ind == 0:\n",
    "                print(n_iter, W, err)\n",
    "    return W, min_err, n_iter"
   ]
  },
  {
   "cell_type": "code",
   "execution_count": null,
   "id": "20a347d8-779e-4282-bbee-26677d4e2ea1",
   "metadata": {},
   "outputs": [],
   "source": []
  }
 ],
 "metadata": {
  "kernelspec": {
   "display_name": "Python 3 (ipykernel)",
   "language": "python",
   "name": "python3"
  },
  "language_info": {
   "codemirror_mode": {
    "name": "ipython",
    "version": 3
   },
   "file_extension": ".py",
   "mimetype": "text/x-python",
   "name": "python",
   "nbconvert_exporter": "python",
   "pygments_lexer": "ipython3",
   "version": "3.9.1"
  }
 },
 "nbformat": 4,
 "nbformat_minor": 5
}
