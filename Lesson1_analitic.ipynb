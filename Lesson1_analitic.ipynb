{
 "cells": [
  {
   "cell_type": "markdown",
   "id": "45b96728-dd99-47d7-93f9-7e67a5658f35",
   "metadata": {},
   "source": [
    "### \"Подготовительная часть для выполнения практического задания\""
   ]
  },
  {
   "cell_type": "code",
   "execution_count": 16,
   "id": "86915b0e-136a-4c6f-9e0b-3ffd99a6facc",
   "metadata": {},
   "outputs": [],
   "source": [
    "%matplotlib inline\n",
    "import numpy as np\n",
    "import matplotlib.pyplot as plt"
   ]
  },
  {
   "cell_type": "code",
   "execution_count": 17,
   "id": "db513206-1a7a-4bc5-89db-90bef864a877",
   "metadata": {},
   "outputs": [],
   "source": [
    "y = np.array([45, 55, 50, 59, 65, 35, 75, 80, 50, 60])\n",
    "\n",
    "X = np.array(\n",
    "    [\n",
    "        [1, 1, 1, 1, 1, 1, 1, 1, 1, 1],\n",
    "        [1, 1, 2, 1, 3, 0, 5, 10, 1, 2]\n",
    "    ]\n",
    ")"
   ]
  },
  {
   "cell_type": "code",
   "execution_count": 18,
   "id": "8a25d1a7-a8e3-4cee-95ed-6d13e7e6d363",
   "metadata": {},
   "outputs": [
    {
     "data": {
      "image/png": "[encoded data removed]",
      "text/plain": [
       "<Figure size 640x480 with 1 Axes>"
      ]
     },
     "metadata": {},
     "output_type": "display_data"
    }
   ],
   "source": [
    "plt.scatter(X[1], y)\n",
    "plt.plot(X[1], 35 * X[0] + X[1] * 5, label='model1')\n",
    "plt.plot(X[1], 40 * X[0] + X[1] * 7.5, label='model2')\n",
    "plt.legend(loc='best')\n",
    "plt.show()\n"
   ]
  },
  {
   "cell_type": "code",
   "execution_count": 19,
   "id": "0d478df2-b3e5-429b-b245-5f66c3d288fd",
   "metadata": {},
   "outputs": [],
   "source": [
    "y_pred1 = np.ones(10) * 35 + X[1] * 5\n",
    "y_pred2 = np.ones(10) * 40 + X[1] * 7.5"
   ]
  },
  {
   "cell_type": "code",
   "execution_count": 20,
   "id": "7d9bec1c-a35f-45e4-bb52-15293d8ae056",
   "metadata": {},
   "outputs": [
    {
     "data": {
      "text/plain": [
       "array([40., 40., 45., 40., 50., 35., 60., 85., 40., 45.])"
      ]
     },
     "execution_count": 20,
     "metadata": {},
     "output_type": "execute_result"
    }
   ],
   "source": [
    "y_pred1"
   ]
  },
  {
   "cell_type": "code",
   "execution_count": 21,
   "id": "308598bb-8b2c-4cb3-bad9-6093647a732a",
   "metadata": {},
   "outputs": [
    {
     "data": {
      "text/plain": [
       "array([ 47.5,  47.5,  55. ,  47.5,  62.5,  40. ,  77.5, 115. ,  47.5,\n",
       "        55. ])"
      ]
     },
     "execution_count": 21,
     "metadata": {},
     "output_type": "execute_result"
    }
   ],
   "source": [
    "y_pred2"
   ]
  },
  {
   "cell_type": "code",
   "execution_count": 22,
   "id": "67de8181-7be2-4a94-a0dc-daa2e0095ac5",
   "metadata": {},
   "outputs": [
    {
     "data": {
      "text/plain": [
       "array([ 47.5,  47.5,  55. ,  47.5,  62.5,  40. ,  77.5, 115. ,  47.5,\n",
       "        55. ])"
      ]
     },
     "execution_count": 22,
     "metadata": {},
     "output_type": "execute_result"
    }
   ],
   "source": [
    "y_pred2"
   ]
  },
  {
   "cell_type": "code",
   "execution_count": 24,
   "id": "600c31f7-5b33-4ade-8784-75f311fed900",
   "metadata": {},
   "outputs": [],
   "source": [
    "mae_1 = np.mean(np.abs(y_pred1 - y))\n",
    "mae_2 = np.mean(np.abs(y_pred2 - y))"
   ]
  },
  {
   "cell_type": "code",
   "execution_count": 25,
   "id": "b8a7df35-59a6-4499-a862-45a4f02c7e76",
   "metadata": {},
   "outputs": [
    {
     "data": {
      "text/plain": [
       "(10.4, 7.9)"
      ]
     },
     "execution_count": 25,
     "metadata": {},
     "output_type": "execute_result"
    }
   ],
   "source": [
    "mae_1, mae_2"
   ]
  },
  {
   "cell_type": "code",
   "execution_count": 26,
   "id": "b5b56575-928f-49b8-a0be-5d2f27aa7fd1",
   "metadata": {},
   "outputs": [],
   "source": [
    "mse_1 = np.mean((y_pred1 - y) ** 2)\n",
    "mse_2 = np.mean((y_pred2 - y) ** 2)"
   ]
  },
  {
   "cell_type": "code",
   "execution_count": 27,
   "id": "e404b23e-8e63-4ad8-9f90-766fcd21b736",
   "metadata": {},
   "outputs": [
    {
     "data": {
      "text/plain": [
       "(143.6, 151.35)"
      ]
     },
     "execution_count": 27,
     "metadata": {},
     "output_type": "execute_result"
    }
   ],
   "source": [
    "mse_1, mse_2"
   ]
  },
  {
   "cell_type": "code",
   "execution_count": 28,
   "id": "857bf503-11d3-4010-8f6f-17c80ac77796",
   "metadata": {},
   "outputs": [
    {
     "data": {
      "text/plain": [
       "array([47.23214286,  3.91071429])"
      ]
     },
     "execution_count": 28,
     "metadata": {},
     "output_type": "execute_result"
    }
   ],
   "source": [
    "W_0 = np.linalg.inv(X @ X.T) @ X @ y\n",
    "W_0\n",
    "# отличается от классического вида, поскольку у нас изначально массив\n",
    "# Х представляет собой транспонированную матрицу\n",
    "# для приведения к классическому виду необходимо изначально\n",
    "# задавать вектор признаков и вектор значений в иной размерности\n",
    "# код ниже"
   ]
  },
  {
   "cell_type": "code",
   "execution_count": 29,
   "id": "2c15055b-eb4c-4f3b-ad33-9cfb7dc73bf4",
   "metadata": {},
   "outputs": [
    {
     "data": {
      "text/plain": [
       "array([[47.23214286],\n",
       "       [ 3.91071429]])"
      ]
     },
     "execution_count": 29,
     "metadata": {},
     "output_type": "execute_result"
    }
   ],
   "source": [
    "X1 = X.swapaxes(0, 1)\n",
    "y1 = y.reshape((len(y), -1))\n",
    "W1 = np.linalg.inv(X1.T @ X1) @ X1.T @ y1\n",
    "W1"
   ]
  },
  {
   "cell_type": "code",
   "execution_count": 30,
   "id": "d57fe4d4-3571-4280-b321-e7aee23ac2e5",
   "metadata": {},
   "outputs": [
    {
     "data": {
      "text/plain": [
       "array([[ 10,  26],\n",
       "       [ 26, 146]])"
      ]
     },
     "execution_count": 30,
     "metadata": {},
     "output_type": "execute_result"
    }
   ],
   "source": [
    "# ковариационная матрица\n",
    "np.dot(X, X.T)\n",
    "#np.dot(X1.T,X1)"
   ]
  },
  {
   "cell_type": "code",
   "execution_count": 31,
   "id": "326861e9-d988-4d65-9b9e-dd9acf25583d",
   "metadata": {},
   "outputs": [
    {
     "data": {
      "image/png": "[encoded data removed]",
      "text/plain": [
       "<Figure size 640x480 with 1 Axes>"
      ]
     },
     "metadata": {},
     "output_type": "display_data"
    }
   ],
   "source": [
    "plt.scatter(X[1], y)\n",
    "plt.plot(X[1], y_pred1, label='model1')\n",
    "plt.plot(X[1], 40 * np.ones(10) + X[1] * 7.5, label='model2')\n",
    "plt.plot(X[1], W_0[0] + W_0[1] * X[1], label='analytic_model')\n",
    "plt.legend(loc='best')\n",
    "plt.show()"
   ]
  },
  {
   "cell_type": "code",
   "execution_count": 32,
   "id": "a53d1246-f859-45f2-9701-851d3dba3bd1",
   "metadata": {},
   "outputs": [],
   "source": [
    "y_pred3 = W_0[0] + W_0[1] * X[1]"
   ]
  },
  {
   "cell_type": "code",
   "execution_count": 33,
   "id": "8114d8a3-9051-4c90-aaed-1a88b56a68eb",
   "metadata": {},
   "outputs": [],
   "source": [
    "def calc_mae(y, y_pred):\n",
    "    err = np.mean(np.abs(y - y_pred))\n",
    "    return err"
   ]
  },
  {
   "cell_type": "code",
   "execution_count": 34,
   "id": "026f0705-82ef-4868-9508-56cd50404d21",
   "metadata": {},
   "outputs": [],
   "source": [
    "def calc_mse(y, y_pred):\n",
    "    err = np.mean((y - y_pred) ** 2)\n",
    "    return err"
   ]
  },
  {
   "cell_type": "code",
   "execution_count": 35,
   "id": "ed24b69d-080b-4b92-94cc-ca218c21351a",
   "metadata": {},
   "outputs": [
    {
     "data": {
      "text/plain": [
       "(10.4, 7.9, 6.182142857142859)"
      ]
     },
     "execution_count": 35,
     "metadata": {},
     "output_type": "execute_result"
    }
   ],
   "source": [
    "calc_mae(y, y_pred1), calc_mae(y, y_pred2), calc_mae(y, y_pred3)"
   ]
  },
  {
   "cell_type": "code",
   "execution_count": 36,
   "id": "701dc491-9d58-4ccf-b917-598ad76f1e2a",
   "metadata": {},
   "outputs": [
    {
     "data": {
      "text/plain": [
       "(143.6, 151.35, 45.93750000000002)"
      ]
     },
     "execution_count": 36,
     "metadata": {},
     "output_type": "execute_result"
    }
   ],
   "source": [
    "calc_mse(y, y_pred1), calc_mse(y, y_pred2), calc_mse(y, y_pred3)\n"
   ]
  },
  {
   "cell_type": "markdown",
   "id": "db349b18-dc40-4124-8fb5-94bda2fdcbee",
   "metadata": {},
   "source": [
    "##### Аналитическая формула имеет недостатки использования при вычислении весов линейной модели в следствии того, что вычисление обратной матрицы при большом количестве признаков имеет высокую вычислительную сложность."
   ]
  },
  {
   "cell_type": "markdown",
   "id": "69afdfb7-8dab-404b-8a54-7cb8ac6e9eef",
   "metadata": {},
   "source": [
    "Практическое задание\n",
    "1. Подберите скорость обучения(eta) и количество итераций:"
   ]
  },
  {
   "cell_type": "code",
   "execution_count": 37,
   "id": "e6c68cdd-dc3b-4e1f-a245-ffb55ca8e304",
   "metadata": {},
   "outputs": [
    {
     "data": {
      "text/plain": [
       "(array([1. , 0.5]), 0.0001)"
      ]
     },
     "execution_count": 37,
     "metadata": {},
     "output_type": "execute_result"
    }
   ],
   "source": [
    "n = X.shape[1]\n",
    "alpha = 1e-04\n",
    "\n",
    "W = np.array([1, 0.5])\n",
    "W, alpha"
   ]
  },
  {
   "cell_type": "code",
   "execution_count": 38,
   "id": "24a96c72-084a-4799-a891-b597c0988a07",
   "metadata": {},
   "outputs": [
    {
     "name": "stdout",
     "output_type": "stream",
     "text": [
      "0 [1.01102 0.534  ] 3173.15\n",
      "100 [2.02168794 3.452835  ] 2207.6942101483005\n",
      "200 [2.88306663 5.58962851] 1670.7027004086372\n",
      "300 [3.63289519 7.14848061] 1368.0832412796256\n",
      "400 [4.29908617 8.28027926] 1193.7493344933293\n",
      "500 [4.90228732 9.09657298] 1089.714750358689\n",
      "600 [5.45777535 9.67982684] 1024.2828984889416\n",
      "700 [ 5.97685612 10.0910047 ] 980.1260644155933\n",
      "800 [ 6.46789973 10.37517467] 947.770026039189\n",
      "900 [ 6.93710574 10.56565326] 922.0330206910178\n",
      "1000 [ 7.38906894 10.68706909] 900.0794345405571\n",
      "1100 [ 7.82719761 10.75762786] 880.3560305497828\n",
      "1200 [ 8.25402271 10.7907869 ] 862.0105344693482\n",
      "1300 [ 8.67142649 10.79649311] 844.5738572427321\n",
      "1400 [ 9.08081151 10.78209811] 827.7864098809556\n"
     ]
    }
   ],
   "source": [
    "for i in range(1500):\n",
    "    y_pred = W @ X\n",
    "    err = calc_mse(y, y_pred)\n",
    "    for ii in range(W.shape[0]):\n",
    "        W[ii] -= alpha * (1 / n * 2 * np.sum(X[ii] * (y_pred - y)))\n",
    "    if i % 100 == 0:\n",
    "        print(i, W, err)"
   ]
  },
  {
   "cell_type": "code",
   "execution_count": 39,
   "id": "fb4703bc-51a9-45d4-a1d3-adee49e6d392",
   "metadata": {},
   "outputs": [],
   "source": [
    "def grad_desc(X, y, alpha=1e-04, verbose=False, tol=0.0):\n",
    "    '''\n",
    "\n",
    "    :param X: features array\n",
    "    :param y: target array\n",
    "    :param alpha: learning rate, float default=1e-04\n",
    "    :param verbose: prints progress and performance once in a while, bool default False\n",
    "    :param tol: when mse is not improving by at least tol, the searching stops, float default 0.0\n",
    "    :return: weights array, mse\n",
    "    '''\n",
    "    n = X.shape[1]\n",
    "    W = np.array([1, 0.5])  # задаём начальное значение весов\n",
    "    min_err = float('inf')  #начальное значение ошибки модели - бесконечность\n",
    "    n_iter = 0  # отслеживаем количество итераций\n",
    "    stop_chek = True  #будем чекать снижение ошибки\n",
    "    while stop_chek:\n",
    "        n_iter += 1\n",
    "        y_pred = W @ X\n",
    "        err = calc_mse(y, y_pred)\n",
    "        if min_err - err > tol:  # контролируем текущее значение ошибки\n",
    "            min_err = err\n",
    "        else:  # если снижение прекратилось, останавливаемся.\n",
    "            print(\n",
    "                f'Stop descent! iteration: {n_iter}, weights: {W}, mse: {min_err}')\n",
    "            stop_chek = False\n",
    "        for ii in range(W.shape[0]):\n",
    "            W[ii] -= alpha * (1 / n * 2 * np.sum(X[ii] * (y_pred - y)))\n",
    "        if verbose:\n",
    "            if n_iter % 100 == 0:\n",
    "                print(n_iter, W, err)\n",
    "    return W, min_err"
   ]
  },
  {
   "cell_type": "code",
   "execution_count": 40,
   "id": "ea7ddc8a-758b-41ea-94fe-c38721db71f9",
   "metadata": {},
   "outputs": [
    {
     "name": "stdout",
     "output_type": "stream",
     "text": [
      "100 [47.16186867  3.92369094] 45.94052007431746\n",
      "200 [47.23203087  3.91073496] 45.937500007669335\n",
      "Stop descent! iteration: 283, weights: [47.23214229  3.91071439], mse: 45.93750000000017\n"
     ]
    },
    {
     "data": {
      "text/plain": [
       "(array([47.23214232,  3.91071438]), 45.93750000000017)"
      ]
     },
     "execution_count": 40,
     "metadata": {},
     "output_type": "execute_result"
    }
   ],
   "source": [
    "W_1, mse_1 = grad_desc(X, y, alpha=0.06, verbose=True)\n",
    "W_1, mse_1"
   ]
  },
  {
   "cell_type": "markdown",
   "id": "445e3528-d5ea-49b6-bff0-a6a84319e424",
   "metadata": {},
   "source": [
    "Визуализируем на графике:"
   ]
  },
  {
   "cell_type": "code",
   "execution_count": 41,
   "id": "7ed26ad0-9be2-4de0-86fc-16b28235c66e",
   "metadata": {},
   "outputs": [
    {
     "data": {
      "image/png": "[encoded data removed]",
      "text/plain": [
       "<Figure size 1600x800 with 1 Axes>"
      ]
     },
     "metadata": {},
     "output_type": "display_data"
    }
   ],
   "source": [
    "plt.figure(figsize=(16, 8))\n",
    "plt.scatter(X[1], y)\n",
    "plt.plot(X[1], y_pred1, label='model1')\n",
    "plt.plot(X[1], 40 * np.ones(10) + X[1] * 7.5, label='model2')\n",
    "plt.plot(X[1], W_0[0] + W_0[1] * X[1], label='analytic_model')\n",
    "plt.plot(X[1], W_1[0] + W_1[1] * X[1], label='gd_model')\n",
    "plt.legend(loc='best')\n",
    "plt.show()"
   ]
  },
  {
   "cell_type": "markdown",
   "id": "fbf21738-2565-4d8d-b155-44938f608495",
   "metadata": {},
   "source": [
    "Видим, что линия регрессии полученная аналитическим методом, и методом градиентного спуска перекрывают друг друга."
   ]
  },
  {
   "cell_type": "markdown",
   "id": "82437787-9848-4977-a2ef-004ee909c098",
   "metadata": {},
   "source": [
    "##### 2*. В этом коде мы избавляемся от итераций по весам, но тут есть ошибка, исправьте ее:"
   ]
  },
  {
   "cell_type": "code",
   "execution_count": 43,
   "id": "998cee73-67ff-4e10-866e-a2795d8288f4",
   "metadata": {},
   "outputs": [
    {
     "name": "stdout",
     "output_type": "stream",
     "text": [
      "0 [28.012 27.512] 3173.15\n",
      "10 [920.8133364 920.3133364] 7679999.809125753\n",
      "20 [51047.7040571 51047.2040571] 24207581874.947388\n",
      "30 [2865453.40763741 2865452.90763741] 76310318597570.66\n",
      "40 [1.60882026e+08 1.60882025e+08] 2.4055541490033075e+17\n",
      "50 [9.03282155e+09 9.03282155e+09] 7.583103923808137e+20\n",
      "60 [5.07153428e+11 5.07153428e+11] 2.3904456751929813e+24\n",
      "70 [2.84744471e+13 2.84744471e+13] 7.535477007124038e+27\n",
      "80 [1.59871568e+15 1.59871568e+15] 2.3754320926080286e+31\n",
      "90 [8.97608944e+16 8.97608944e+16] 7.488149219030976e+34\n",
      "100 [5.03968168e+18 5.03968168e+18] 2.360512805268678e+38\n",
      "110 [2.82956087e+20 2.82956087e+20] 7.441118680803292e+41\n",
      "120 [1.58867469e+22 1.58867469e+22] 2.3456872209383065e+45\n",
      "130 [8.91971365e+23 8.91971365e+23] 7.394383525514864e+48\n",
      "140 [5.00802914e+25 5.00802914e+25] 2.3309547510999388e+52\n",
      "150 [2.81178936e+27 2.81178936e+27] 7.347941897965165e+55\n",
      "160 [1.57869676e+29 1.57869676e+29] 2.3163148109328867e+59\n",
      "170 [8.86369194e+30 8.86369194e+30] 7.30179195460546e+62\n",
      "180 [4.9765754e+32 4.9765754e+32] 2.3017668192894907e+66\n",
      "190 [2.79412946e+34 2.79412946e+34] 7.255931863465873e+69\n",
      "200 [1.5687815e+36 1.5687815e+36] 2.2873101986721154e+73\n",
      "210 [8.80802208e+37 8.80802208e+37] 7.210359804082345e+76\n",
      "220 [4.94531921e+39 4.94531921e+39] 2.2729443752101776e+80\n",
      "230 [2.77658047e+41 2.77658047e+41] 7.165073967424705e+83\n",
      "240 [1.55892851e+43 1.55892851e+43] 2.2586687786373905e+87\n",
      "250 [8.75270186e+44 8.75270186e+44] 7.120072555824521e+90\n",
      "260 [4.91425933e+46 4.91425933e+46] 2.2444828422691062e+94\n",
      "270 [2.75914171e+48 2.75914171e+48] 7.075353782904015e+97\n",
      "280 [1.54913741e+50 1.54913741e+50] 2.230386002979838e+101\n"
     ]
    }
   ],
   "source": [
    "n = X.shape[1]\n",
    "alpha = 0.06 # будем использовать подобранные нами значения alpha и оптимальное количество итераций\n",
    "\n",
    "W = np.array([1, 0.5])\n",
    "\n",
    "for i in range(287):\n",
    "    y_pred = np.dot(W, X)\n",
    "    err = calc_mse(y, y_pred)\n",
    "    # for ii in range(W.shape[0]):\n",
    "    # W[ii] -= alpha * (1/n * 2 * np.sum(X[ii] * (y_pred - y)))'''\n",
    "    W -= (alpha * (1 / n * 2 * np.sum(X * (y_pred - y))))\n",
    "    if i % 10 == 0:\n",
    "        print(i, W, err)"
   ]
  },
  {
   "cell_type": "markdown",
   "id": "595cf9b6-eede-4e15-a66e-cb9d7ca2cbdf",
   "metadata": {},
   "source": [
    "Решение:"
   ]
  },
  {
   "cell_type": "code",
   "execution_count": 44,
   "id": "0673b9a5-d02e-42e2-b7c4-924d99f8548f",
   "metadata": {},
   "outputs": [
    {
     "name": "stdout",
     "output_type": "stream",
     "text": [
      "0 [ 7.612 20.9  ] 3173.15\n",
      "10 [25.72983979  9.05170097] 364.6834436471202\n",
      "20 [35.85695572  6.15284752] 125.86627725452956\n",
      "30 [41.24888118  5.03270471] 67.85926616474049\n",
      "40 [44.0891315   4.49316871] 51.98014546835954\n",
      "50 [45.5816168   4.21574742] 47.603575735386116\n",
      "60 [46.3654434   4.07078732] 46.39687623882493\n",
      "70 [46.77704197  3.99475582] 46.064160921425916\n",
      "80 [46.99317184  3.95484256] 45.972423420722386\n",
      "90 [47.10666058  3.9338856 ] 45.94712921557662\n",
      "100 [47.16625286  3.92288138] 45.94015500316733\n",
      "110 [47.19754441  3.91710315] 45.9382320473576\n",
      "120 [47.21397542  3.91406904] 45.93770184282278\n",
      "130 [47.22260325  3.91247585] 45.93755565285452\n",
      "140 [47.22713366  3.91163927] 45.93751534481224\n",
      "150 [47.22951256  3.91119999] 45.937504230928766\n",
      "160 [47.2307617   3.91096933] 45.93750116656742\n",
      "170 [47.23141762  3.91084821] 45.937500321650326\n",
      "180 [47.23176204  3.91078461] 45.93750008868662\n",
      "190 [47.23194289  3.91075121] 45.937500024453016\n",
      "200 [47.23203786  3.91073367] 45.937500006742276\n",
      "210 [47.23208772  3.91072447] 45.93750000185901\n",
      "220 [47.23211391  3.91071963] 45.93750000051257\n",
      "230 [47.23212766  3.91071709] 45.937500000141334\n",
      "240 [47.23213487  3.91071576] 45.93750000003898\n",
      "250 [47.23213867  3.91071506] 45.93750000001074\n",
      "260 [47.23214066  3.91071469] 45.937500000002956\n",
      "270 [47.2321417  3.9107145] 45.93750000000081\n",
      "280 [47.23214225  3.9107144 ] 45.93750000000022\n"
     ]
    }
   ],
   "source": [
    "n = X.shape[1]\n",
    "alpha = 0.06\n",
    "\n",
    "W = np.array([1, 0.5])\n",
    "\n",
    "for i in range(287):\n",
    "    y_pred = np.dot(W, X)\n",
    "    err = calc_mse(y, y_pred)\n",
    "    # for ii in range(W.shape[0]):\n",
    "    # W[ii] -= alpha * (1/n * 2 * np.sum(X[ii] * (y_pred - y)))'''\n",
    "    W -= (alpha * (1 / n * 2 * np.sum(X * (y_pred - y), axis=1))) # установим параметр axis=1 в функции np.sum()\n",
    "    if i % 10 == 0:\n",
    "        print(i, W, err)"
   ]
  },
  {
   "cell_type": "markdown",
   "id": "87a34963-0c16-43cd-88f2-b0e335e614c3",
   "metadata": {},
   "source": [
    "На основании решения задач, функция градиентного спуска примет окончательный вид:"
   ]
  },
  {
   "cell_type": "code",
   "execution_count": 45,
   "id": "9bca4d73-f3a8-480a-b495-19c634f29cec",
   "metadata": {},
   "outputs": [],
   "source": [
    "def my_grad_desc(X, y, alpha=1e-04, verbose=False, tol=0.0):\n",
    "    '''\n",
    "    :param X: features array\n",
    "    :param y: target array\n",
    "    :param alpha: learning rate, float default=1e-04\n",
    "    :param verbose: prints progress and performance once in a while, bool default False\n",
    "    :param tol: when mse is not improving by at least tol, the searching stops, float default 0.0\n",
    "    :return: weights array, mse\n",
    "    \n",
    "    '''\n",
    "    n = X.shape[1]\n",
    "    W = np.array([1, 0.5])  # задаём начальное значение весов\n",
    "    min_err = float('inf')  #начальное значение ошибки модели - бесконечность\n",
    "    n_iter = 0  # отслеживаем количество итераций\n",
    "    stop_chek = True  #будем чекать снижение ошибки\n",
    "    while stop_chek:\n",
    "        n_iter += 1\n",
    "        y_pred = W @ X\n",
    "        err = calc_mse(y, y_pred)\n",
    "        if min_err - err > tol:  # контролируем текущее значение ошибки\n",
    "            min_err = err\n",
    "        else:  # если снижение прекратилось, останавливаемся.\n",
    "            print(\n",
    "                f'Stop descent! iteration: {n_iter}, weights: {W}, mse: {min_err}')\n",
    "            stop_chek = False\n",
    "        W -= alpha * (1 / n * 2 * np.sum(X * (y_pred - y), axis=1))\n",
    "        if verbose:\n",
    "            if n_iter % 100 == 0:\n",
    "                print(n_iter, W, err)\n",
    "    return W, min_err"
   ]
  },
  {
   "cell_type": "code",
   "execution_count": 46,
   "id": "f153116a-b6fb-4bd0-af92-5b9c1e878015",
   "metadata": {},
   "outputs": [
    {
     "name": "stdout",
     "output_type": "stream",
     "text": [
      "100 [47.16186867  3.92369094] 45.94052007431746\n",
      "200 [47.23203087  3.91073496] 45.937500007669335\n",
      "Stop descent! iteration: 283, weights: [47.23214229  3.91071439], mse: 45.93750000000017\n"
     ]
    },
    {
     "data": {
      "text/plain": [
       "(array([47.23214232,  3.91071438]), 45.93750000000017)"
      ]
     },
     "execution_count": 46,
     "metadata": {},
     "output_type": "execute_result"
    }
   ],
   "source": [
    "W_1, mse_1 = my_grad_desc(X, y, alpha=0.06, verbose=True)\n",
    "W_1, mse_1"
   ]
  },
  {
   "cell_type": "code",
   "execution_count": null,
   "id": "8222b70a-0fbd-4b39-8111-053353ee7d5f",
   "metadata": {},
   "outputs": [],
   "source": []
  }
 ],
 "metadata": {
  "kernelspec": {
   "display_name": "Python 3 (ipykernel)",
   "language": "python",
   "name": "python3"
  },
  "language_info": {
   "codemirror_mode": {
    "name": "ipython",
    "version": 3
   },
   "file_extension": ".py",
   "mimetype": "text/x-python",
   "name": "python",
   "nbconvert_exporter": "python",
   "pygments_lexer": "ipython3",
   "version": "3.9.1"
  },
  "toc-autonumbering": true,
  "toc-showmarkdowntxt": true
 },
 "nbformat": 4,
 "nbformat_minor": 5
}
